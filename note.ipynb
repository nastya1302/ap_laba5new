{
 "cells": [
  {
   "cell_type": "code",
   "execution_count": 2,
   "metadata": {},
   "outputs": [],
   "source": [
    "import torch\n",
    "import torch.nn as nn\n",
    "from torchvision import transforms\n",
    "import numpy as np\n",
    "import matplotlib.pyplot as plt\n",
    "import pandas as pd\n",
    "from PIL import Image\n",
    "from typing import Tuple, List, Any\n",
    "import cv2\n",
    "import os\n",
    "import glob"
   ]
  },
  {
   "cell_type": "code",
   "execution_count": 3,
   "metadata": {},
   "outputs": [],
   "source": [
    "df: pd.DataFrame = pd.read_csv('Annotasion2.csv', usecols=[\"Absolute path\", \"Class name\"])\n",
    "df: pd.DataFrame = df.rename(columns={'Absolute path': 'absPath',\n",
    "               'Class name': 'className'})"
   ]
  },
  {
   "cell_type": "code",
   "execution_count": 4,
   "metadata": {},
   "outputs": [
    {
     "name": "stdout",
     "output_type": "stream",
     "text": [
      "                                              absPath className\n",
      "0      C:\\Users\\nasty\\ap_laba2\\dataset2\\rose_0000.jpg      rose\n",
      "1      C:\\Users\\nasty\\ap_laba2\\dataset2\\rose_0001.jpg      rose\n",
      "2      C:\\Users\\nasty\\ap_laba2\\dataset2\\rose_0002.jpg      rose\n",
      "3      C:\\Users\\nasty\\ap_laba2\\dataset2\\rose_0003.jpg      rose\n",
      "4      C:\\Users\\nasty\\ap_laba2\\dataset2\\rose_0004.jpg      rose\n",
      "...                                               ...       ...\n",
      "1997  C:\\Users\\nasty\\ap_laba2\\dataset2\\tulip_0996.jpg     tulip\n",
      "1998  C:\\Users\\nasty\\ap_laba2\\dataset2\\tulip_0997.jpg     tulip\n",
      "1999  C:\\Users\\nasty\\ap_laba2\\dataset2\\tulip_0998.jpg     tulip\n",
      "2000  C:\\Users\\nasty\\ap_laba2\\dataset2\\tulip_0999.jpg     tulip\n",
      "2001  C:\\Users\\nasty\\ap_laba2\\dataset2\\tulip_1000.jpg     tulip\n",
      "\n",
      "[1605 rows x 2 columns]\n",
      "                                              absPath className\n",
      "20     C:\\Users\\nasty\\ap_laba2\\dataset2\\rose_0020.jpg      rose\n",
      "42     C:\\Users\\nasty\\ap_laba2\\dataset2\\rose_0042.jpg      rose\n",
      "55     C:\\Users\\nasty\\ap_laba2\\dataset2\\rose_0055.jpg      rose\n",
      "101    C:\\Users\\nasty\\ap_laba2\\dataset2\\rose_0101.jpg      rose\n",
      "103    C:\\Users\\nasty\\ap_laba2\\dataset2\\rose_0103.jpg      rose\n",
      "...                                               ...       ...\n",
      "1965  C:\\Users\\nasty\\ap_laba2\\dataset2\\tulip_0964.jpg     tulip\n",
      "1966  C:\\Users\\nasty\\ap_laba2\\dataset2\\tulip_0965.jpg     tulip\n",
      "1968  C:\\Users\\nasty\\ap_laba2\\dataset2\\tulip_0967.jpg     tulip\n",
      "1974  C:\\Users\\nasty\\ap_laba2\\dataset2\\tulip_0973.jpg     tulip\n",
      "1981  C:\\Users\\nasty\\ap_laba2\\dataset2\\tulip_0980.jpg     tulip\n",
      "\n",
      "[200 rows x 2 columns]\n",
      "                                              absPath className\n",
      "6      C:\\Users\\nasty\\ap_laba2\\dataset2\\rose_0006.jpg      rose\n",
      "12     C:\\Users\\nasty\\ap_laba2\\dataset2\\rose_0012.jpg      rose\n",
      "18     C:\\Users\\nasty\\ap_laba2\\dataset2\\rose_0018.jpg      rose\n",
      "19     C:\\Users\\nasty\\ap_laba2\\dataset2\\rose_0019.jpg      rose\n",
      "23     C:\\Users\\nasty\\ap_laba2\\dataset2\\rose_0023.jpg      rose\n",
      "...                                               ...       ...\n",
      "1971  C:\\Users\\nasty\\ap_laba2\\dataset2\\tulip_0970.jpg     tulip\n",
      "1984  C:\\Users\\nasty\\ap_laba2\\dataset2\\tulip_0983.jpg     tulip\n",
      "1985  C:\\Users\\nasty\\ap_laba2\\dataset2\\tulip_0984.jpg     tulip\n",
      "1991  C:\\Users\\nasty\\ap_laba2\\dataset2\\tulip_0990.jpg     tulip\n",
      "1995  C:\\Users\\nasty\\ap_laba2\\dataset2\\tulip_0994.jpg     tulip\n",
      "\n",
      "[197 rows x 2 columns]\n"
     ]
    }
   ],
   "source": [
    "probs = np.random.rand(len(df))\n",
    "training_mask = probs < 0.8\n",
    "test_mask = (probs>=0.8) & (probs < 0.9)\n",
    "validatoin_mask = probs >= 0.9\n",
    "\n",
    "df_training = df[training_mask]\n",
    "df_test = df[test_mask]\n",
    "df_validation = df[validatoin_mask]\n",
    "\n",
    "print(df_training)\n",
    "\n",
    "print(df_test)\n",
    "\n",
    "print(df_validation)"
   ]
  },
  {
   "cell_type": "code",
   "execution_count": 5,
   "metadata": {},
   "outputs": [],
   "source": [
    "train_path='C:/Users/nasty/ap_laba5new/train'\n",
    "test_path='C:/Users/nasty/ap_laba5new/test'\n",
    "val_path='C:/Users/nasty/ap_laba5new/val'\n",
    "\n",
    "if not os.path.isdir(train_path):\n",
    "    os.mkdir(train_path)\n",
    "\n",
    "if not os.path.isdir(test_path):\n",
    "    os.mkdir(test_path)\n",
    "    \n",
    "if not os.path.isdir(val_path):\n",
    "    os.mkdir(val_path)"
   ]
  },
  {
   "cell_type": "code",
   "execution_count": 6,
   "metadata": {},
   "outputs": [],
   "source": [
    "for path in df_training[\"absPath\"]:\n",
    "    image = cv2.imread(path)\n",
    "    cv2.imwrite(os.path.join(train_path, os.path.split(path)[1]), image)\n",
    "\n",
    "for path in df_test[\"absPath\"]:\n",
    "    image = cv2.imread(path)\n",
    "    cv2.imwrite(os.path.join(test_path, os.path.split(path)[1]), image)\n",
    "\n",
    "for path in df_validation[\"absPath\"]:\n",
    "    image = cv2.imread(path)\n",
    "    cv2.imwrite(os.path.join(val_path, os.path.split(path)[1]), image)"
   ]
  },
  {
   "cell_type": "code",
   "execution_count": null,
   "metadata": {},
   "outputs": [],
   "source": [
    "train_list = glob.glob(os.path.join(train_path,'*.jpg'))\n",
    "test_list = glob.glob(os.path.join(test_path, '*.jpg'))\n",
    "val_list = glob.glob(os.path.join(val_path,'*.jpg'))"
   ]
  },
  {
   "cell_type": "code",
   "execution_count": null,
   "metadata": {},
   "outputs": [],
   "source": [
    "random_idx = np.random.randint(1,len(train_list),size=10)\n",
    "\n",
    "fig = plt.figure()\n",
    "i=1\n",
    "for idx in random_idx:\n",
    "    ax = fig.add_subplot(2,5,i)\n",
    "    img = Image.open(train_list[idx])\n",
    "    plt.imshow(img)\n",
    "    i+=1\n",
    "    plt.axis('off')\n",
    "\n",
    "\n",
    "plt.show()"
   ]
  }
 ],
 "metadata": {
  "kernelspec": {
   "display_name": "base",
   "language": "python",
   "name": "python3"
  },
  "language_info": {
   "codemirror_mode": {
    "name": "ipython",
    "version": 3
   },
   "file_extension": ".py",
   "mimetype": "text/x-python",
   "name": "python",
   "nbconvert_exporter": "python",
   "pygments_lexer": "ipython3",
   "version": "3.11.5"
  }
 },
 "nbformat": 4,
 "nbformat_minor": 2
}
